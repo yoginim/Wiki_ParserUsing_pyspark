{
  "nbformat": 4,
  "nbformat_minor": 0,
  "metadata": {
    "colab": {
      "name": "Wikipedia_Parser_using_pyspark.ipynb",
      "provenance": [],
      "collapsed_sections": []
    },
    "kernelspec": {
      "name": "python3",
      "display_name": "Python 3"
    },
    "language_info": {
      "name": "python"
    }
  },
  "cells": [
    {
      "cell_type": "code",
      "metadata": {
        "colab": {
          "base_uri": "https://localhost:8080/"
        },
        "id": "ER80v8htVyU_",
        "outputId": "e596cef2-a1ba-43c3-cd44-6c7c5f24a41e"
      },
      "source": [
        "!pip install pyspark"
      ],
      "execution_count": null,
      "outputs": [
        {
          "output_type": "stream",
          "text": [
            "Collecting pyspark\n",
            "\u001b[?25l  Downloading https://files.pythonhosted.org/packages/45/b0/9d6860891ab14a39d4bddf80ba26ce51c2f9dc4805e5c6978ac0472c120a/pyspark-3.1.1.tar.gz (212.3MB)\n",
            "\u001b[K     |████████████████████████████████| 212.3MB 68kB/s \n",
            "\u001b[?25hCollecting py4j==0.10.9\n",
            "\u001b[?25l  Downloading https://files.pythonhosted.org/packages/9e/b6/6a4fb90cd235dc8e265a6a2067f2a2c99f0d91787f06aca4bcf7c23f3f80/py4j-0.10.9-py2.py3-none-any.whl (198kB)\n",
            "\u001b[K     |████████████████████████████████| 204kB 41.3MB/s \n",
            "\u001b[?25hBuilding wheels for collected packages: pyspark\n",
            "  Building wheel for pyspark (setup.py) ... \u001b[?25l\u001b[?25hdone\n",
            "  Created wheel for pyspark: filename=pyspark-3.1.1-py2.py3-none-any.whl size=212767604 sha256=53084073e463d3e1f434caadc21dbe8c71fb1d8dbee22a7d6b691048d40c3e55\n",
            "  Stored in directory: /root/.cache/pip/wheels/0b/90/c0/01de724414ef122bd05f056541fb6a0ecf47c7ca655f8b3c0f\n",
            "Successfully built pyspark\n",
            "Installing collected packages: py4j, pyspark\n",
            "Successfully installed py4j-0.10.9 pyspark-3.1.1\n"
          ],
          "name": "stdout"
        }
      ]
    },
    {
      "cell_type": "code",
      "metadata": {
        "id": "fdAZUDLfWE7-"
      },
      "source": [
        "from pyspark import SparkContext, SparkConf\n",
        "from pyspark.sql import SparkSession, SQLContext, DataFrame\n",
        "from pyspark.sql.functions import desc,monotonically_increasing_id,sum,lit,col\n",
        "\n",
        "import os\n",
        "import re\n",
        "from functools import reduce"
      ],
      "execution_count": null,
      "outputs": []
    },
    {
      "cell_type": "code",
      "metadata": {
        "id": "E3ZLIeI3WHr9"
      },
      "source": [
        "SUBMIT_ARGS = \"--packages graphframes:graphframes:0.8.0-spark3.0-s_2.12 pyspark-shell\"\n",
        "os.environ[\"PYSPARK_SUBMIT_ARGS\"] = SUBMIT_ARGS"
      ],
      "execution_count": null,
      "outputs": []
    },
    {
      "cell_type": "code",
      "metadata": {
        "id": "7an3DW2nWJs8"
      },
      "source": [
        "conf = SparkConf().setAppName('GraphFrames').setMaster('local')\n",
        "sc = SparkContext(conf=conf)\n",
        "sqlContext = SQLContext(sc)"
      ],
      "execution_count": null,
      "outputs": []
    },
    {
      "cell_type": "code",
      "metadata": {
        "id": "ben2I3vTWMHF"
      },
      "source": [
        "from graphframes import *"
      ],
      "execution_count": null,
      "outputs": []
    },
    {
      "cell_type": "markdown",
      "metadata": {
        "id": "2zoqAwqrwRwi"
      },
      "source": [
        "## Data cleaning and processing\n"
      ]
    },
    {
      "cell_type": "code",
      "metadata": {
        "id": "cLbWtgngWPGF"
      },
      "source": [
        "# Give data path here\n",
        "data_path = 'wiki_tiny.txt'\n",
        "dataRDD = sc.textFile(data_path) \n",
        "#dataRDD.take(4)"
      ],
      "execution_count": null,
      "outputs": []
    },
    {
      "cell_type": "code",
      "metadata": {
        "id": "fMs-2JMJwFiV"
      },
      "source": [
        "appName = \"PySpark Example - Python Array/List to Spark Data Frame\"\n",
        "master = \"local\"\n",
        "# Create Spark session\n",
        "spark = SparkSession.builder \\\n",
        "    .appName(appName) \\\n",
        "    .master(master) \\\n",
        "    .getOrCreate()"
      ],
      "execution_count": null,
      "outputs": []
    },
    {
      "cell_type": "code",
      "metadata": {
        "id": "3rhWjJMx0GB4"
      },
      "source": [
        "samples = dataRDD.collect()\n",
        "tag = \"title\"\n",
        "reg_str = \"<\" + tag + \">(.*?)</\" + tag + \">\"\n",
        "res = re.findall(reg_str,str(samples))\n",
        "title = [x for x in res]\n",
        "url1 = []\n",
        "for i in range(len(samples)):      #creating list of urls\n",
        "  u = list(re.findall(r'\\[([^\\[\\]]*)\\]', str(samples[i])))\n",
        "  url1.append(u)\n",
        "tup1 = list(zip((title[i],url1[i][j]) for i in range(len(samples)) for j in range(len(url1[i]))))  #creating list of title,URL\n",
        "tupf = list(tup1[i][0] for i in range(len(tup1)))     #Final list\n",
        "#convert list into RDD \n",
        "rdd = spark.sparkContext.parallelize(tupf)\n",
        "#print(tup1)\n",
        "#print(tupf)"
      ],
      "execution_count": null,
      "outputs": []
    },
    {
      "cell_type": "markdown",
      "metadata": {
        "id": "lLw3c2H2wyPi"
      },
      "source": [
        "## Graph creation\n"
      ]
    },
    {
      "cell_type": "code",
      "metadata": {
        "id": "C1dnAWUT_1k5"
      },
      "source": [
        "columns = ['src','dst']   #list of columns\n",
        "edgesDF =  rdd.toDF(columns)   #converting edgesRDD to edgesDF and changing column names."
      ],
      "execution_count": null,
      "outputs": []
    },
    {
      "cell_type": "code",
      "metadata": {
        "colab": {
          "base_uri": "https://localhost:8080/"
        },
        "id": "5DX3PF2fAOQD",
        "outputId": "710007ed-dd07-4b58-b609-a9ccf04e5921"
      },
      "source": [
        "edgesDF.show()"
      ],
      "execution_count": null,
      "outputs": [
        {
          "output_type": "stream",
          "text": [
            "+-----+-------------------+\n",
            "|  src|                dst|\n",
            "+-----+-------------------+\n",
            "|April|              month|\n",
            "|April|               year|\n",
            "|April|              March|\n",
            "|April|                May|\n",
            "|April|                day|\n",
            "|April|               July|\n",
            "|April|            January|\n",
            "|April|           December|\n",
            "|April|             flower|\n",
            "|April|          Sweet Pea|\n",
            "|April|   Asteraceae|Daisy|\n",
            "|April|         birthstone|\n",
            "|April|            diamond|\n",
            "|April|             Spring|\n",
            "|April|Northern Hemisphere|\n",
            "|April|              March|\n",
            "|April|                May|\n",
            "|April|               June|\n",
            "|April|          September|\n",
            "|April|           November|\n",
            "+-----+-------------------+\n",
            "only showing top 20 rows\n",
            "\n"
          ],
          "name": "stdout"
        }
      ]
    },
    {
      "cell_type": "code",
      "metadata": {
        "id": "sYLDSekzMsDQ"
      },
      "source": [
        "# Get dataframes for source and destination vertices from edgesDF's src and dst columns respectively\n",
        "srcDF = edgesDF.select('src').distinct()  #getting distinct values from src column\n",
        "destDF = edgesDF.select('dst').distinct()     #getting distinct values from dst columns"
      ],
      "execution_count": null,
      "outputs": []
    },
    {
      "cell_type": "code",
      "metadata": {
        "id": "VmZU6XrWRBfS"
      },
      "source": [
        "# Union vertices from srcDF and destDF, which will give back another dataframe (named verticesDF) with only one column\n",
        "df = [srcDF,destDF]\n",
        "verticesDF = reduce(DataFrame.unionAll,df)\n",
        "\n",
        "# Rename the column as \"Page\" and assign back to the same variable (verticesDF)\n",
        "verticesDF = verticesDF.toDF(\"Pages\")\n",
        "\n",
        "# Add an ID column to the dataframe and assign back to the same variable (verticesDF)\n",
        "verticesDF = verticesDF.withColumn(\"id\",monotonically_increasing_id())"
      ],
      "execution_count": null,
      "outputs": []
    },
    {
      "cell_type": "code",
      "metadata": {
        "colab": {
          "base_uri": "https://localhost:8080/"
        },
        "id": "OTWaJYKrZKNa",
        "outputId": "3f38af7c-093f-44b1-a061-0d581825869b"
      },
      "source": [
        "verticesDF.show()"
      ],
      "execution_count": null,
      "outputs": [
        {
          "output_type": "stream",
          "text": [
            "+----------------+---+\n",
            "|           Pages| id|\n",
            "+----------------+---+\n",
            "|          Helium|  0|\n",
            "|            July|  1|\n",
            "|       Scientist|  2|\n",
            "|          Volume|  3|\n",
            "|Operating System|  4|\n",
            "|           1970s|  5|\n",
            "| Portsmouth F.C.|  6|\n",
            "|         Crusade|  7|\n",
            "|           Drink|  8|\n",
            "|         Kilauea|  9|\n",
            "|            Silk| 10|\n",
            "|  Brest (France)| 11|\n",
            "|       Bangalore| 12|\n",
            "|    Saint George| 13|\n",
            "|               K| 14|\n",
            "|         Antonym| 15|\n",
            "|       Dodgeball| 16|\n",
            "|          Flower| 17|\n",
            "|       Febuary 9| 18|\n",
            "|       Magdeburg| 19|\n",
            "+----------------+---+\n",
            "only showing top 20 rows\n",
            "\n"
          ],
          "name": "stdout"
        }
      ]
    },
    {
      "cell_type": "code",
      "metadata": {
        "id": "qnVSBgI_mFnz"
      },
      "source": [
        "# Create a graphframe from verticesDF and edgesDF\n",
        "G = GraphFrame(verticesDF,edgesDF)"
      ],
      "execution_count": null,
      "outputs": []
    },
    {
      "cell_type": "code",
      "metadata": {
        "colab": {
          "base_uri": "https://localhost:8080/"
        },
        "id": "WU8ZNMsSaJ6T",
        "outputId": "5879141c-fedf-43bb-ee5e-81bf0a7e3b6b"
      },
      "source": [
        "G"
      ],
      "execution_count": null,
      "outputs": [
        {
          "output_type": "execute_result",
          "data": {
            "text/plain": [
              "GraphFrame(v:[id: bigint, Pages: string], e:[src: string, dst: string])"
            ]
          },
          "metadata": {
            "tags": []
          },
          "execution_count": 18
        }
      ]
    },
    {
      "cell_type": "markdown",
      "metadata": {
        "id": "gMPbDmXBx5ua"
      },
      "source": [
        "## Basic queries on the constructed graph"
      ]
    },
    {
      "cell_type": "code",
      "metadata": {
        "colab": {
          "base_uri": "https://localhost:8080/"
        },
        "id": "l8122AM-aovo",
        "outputId": "49224b73-79b8-4b16-ff54-9d801cb26be6"
      },
      "source": [
        "# a query to show number of edges in the graph\n",
        "G.vertices.count()"
      ],
      "execution_count": null,
      "outputs": [
        {
          "output_type": "execute_result",
          "data": {
            "text/plain": [
              "231618"
            ]
          },
          "metadata": {
            "tags": []
          },
          "execution_count": 53
        }
      ]
    },
    {
      "cell_type": "code",
      "metadata": {
        "colab": {
          "base_uri": "https://localhost:8080/"
        },
        "id": "ubRTa3vIb4As",
        "outputId": "0a6ee817-bbd0-4988-ae0e-18216eb84f8c"
      },
      "source": [
        "\n",
        "# a query to show number of edges in the graph\n",
        "G.edges.count()"
      ],
      "execution_count": null,
      "outputs": [
        {
          "output_type": "execute_result",
          "data": {
            "text/plain": [
              "708787"
            ]
          },
          "metadata": {
            "tags": []
          },
          "execution_count": 52
        }
      ]
    },
    {
      "cell_type": "code",
      "metadata": {
        "colab": {
          "base_uri": "https://localhost:8080/"
        },
        "id": "201PGnt3dwTF",
        "outputId": "3c621509-01a9-46aa-faa0-6ec897793b23"
      },
      "source": [
        "#getting indegrees of the graph\n",
        "i = G.inDegrees   \n",
        "#i.show()\n",
        "i_dec = i.orderBy(desc(\"inDegree\"))  #sort them in descending order\n",
        "i_dec.show(15)  #display first 15 rows of the dataframe"
      ],
      "execution_count": null,
      "outputs": [
        {
          "output_type": "stream",
          "text": [
            "+-------------+--------+\n",
            "|           id|inDegree|\n",
            "+-------------+--------+\n",
            "|   footballer|    3835|\n",
            "|         2014|    2686|\n",
            "|         2017|    2655|\n",
            "|         2015|    2405|\n",
            "|         2018|    2170|\n",
            "|         2016|    1863|\n",
            "|United States|    1801|\n",
            "|         2019|    1726|\n",
            "|    President|    1585|\n",
            "|         2013|    1405|\n",
            "|        actor|    1291|\n",
            "|         1945|    1252|\n",
            "|      actress|    1250|\n",
            "|         1944|    1237|\n",
            "|         1942|    1192|\n",
            "+-------------+--------+\n",
            "only showing top 15 rows\n",
            "\n"
          ],
          "name": "stdout"
        }
      ]
    },
    {
      "cell_type": "code",
      "metadata": {
        "colab": {
          "base_uri": "https://localhost:8080/"
        },
        "id": "JeErFlcwmpER",
        "outputId": "af926edb-c253-4281-f9aa-06da7b96b88d"
      },
      "source": [
        "# Getting degrees of the graph\n",
        "# The output will display which page in wikipedia is having more links(sum of in-links and out-links)\n",
        "deg = G.degrees\n",
        "#deg.show()\n",
        "deg_dec = deg.orderBy(desc(\"degree\"))   #sort them in descending order\n",
        "deg_dec.show(15)"
      ],
      "execution_count": null,
      "outputs": [
        {
          "output_type": "stream",
          "text": [
            "+--------------------+------+\n",
            "|                  id|degree|\n",
            "+--------------------+------+\n",
            "|Wikipedia:List of...|  5096|\n",
            "|          footballer|  3835|\n",
            "|                1992|  2911|\n",
            "|                2014|  2686|\n",
            "|                2017|  2655|\n",
            "|                2015|  2405|\n",
            "|                1930|  2403|\n",
            "|                1991|  2291|\n",
            "|                1980|  2188|\n",
            "|                2018|  2170|\n",
            "|              Ankara|  2080|\n",
            "|                1964|  2046|\n",
            "|                1984|  1917|\n",
            "|         Memory Card|  1893|\n",
            "|        Fifth Avenue|  1885|\n",
            "+--------------------+------+\n",
            "only showing top 15 rows\n",
            "\n"
          ],
          "name": "stdout"
        }
      ]
    },
    {
      "cell_type": "code",
      "metadata": {
        "id": "dPWIFykLyXIi",
        "colab": {
          "base_uri": "https://localhost:8080/"
        },
        "outputId": "3594a4ac-1fca-41ef-f1b0-0221485d8bc5"
      },
      "source": [
        "# Getting number of multiple edges between nodes in graph G\n",
        "# The graph created from Wikipedia articles have multiple edges. Example: 150 edges from the node \"April\" to the node \"August\"\n",
        "# This means there the page \"April\" has reference the page \"August\" 150 times\n",
        "edgesDF.groupBy(\"src\",\"dst\").count().sort(desc(\"count\")).show(15)"
      ],
      "execution_count": null,
      "outputs": [
        {
          "output_type": "stream",
          "text": [
            "+--------------------+--------------------+-----+\n",
            "|                 src|                 dst|count|\n",
            "+--------------------+--------------------+-----+\n",
            "|Wikipedia:Deletio...|  User:Angela|Angela|  767|\n",
            "|Wikipedia:Deletio...|User:Netoholic|Ne...|  286|\n",
            "|                Line|   United States|USA|  141|\n",
            "|         Popocatpetl|                    |  103|\n",
            "|              Orbits|             Bavaria|   96|\n",
            "|List of communist...|      United Kingdom|   94|\n",
            "|Wikipedia:Deletio...|User:SimonMayer|S...|   93|\n",
            "|          Superhuman|             La Liga|   88|\n",
            "|List of Spanish f...|Football League C...|   82|\n",
            "|List of Italian f...|Football League C...|   79|\n",
            "|        Chelsea F.C.|Football League C...|   78|\n",
            "|   Derby County F.C.|Football League C...|   78|\n",
            "|       Drink driving|Football League C...|   77|\n",
            "|        Everton F.C.|Football League C...|   72|\n",
            "|                Line|             Germany|   72|\n",
            "+--------------------+--------------------+-----+\n",
            "only showing top 15 rows\n",
            "\n"
          ],
          "name": "stdout"
        }
      ]
    },
    {
      "cell_type": "markdown",
      "metadata": {
        "id": "v3240EgCyady"
      },
      "source": [
        "## Message Aggregation - Page Ranking"
      ]
    },
    {
      "cell_type": "code",
      "metadata": {
        "id": "fiahEjh5fCGZ"
      },
      "source": [
        "# Getting the graph G's outdegree to outDegDF\n",
        "OutDegDF = G.outDegrees  #getting outDegrees \n",
        "OutDegDF = OutDegDF.toDF(\"Pages\",\"outDegree\")   \n",
        "verticesDF = verticesDF.join(OutDegDF,[\"Pages\"])  #joining outDegDF and verticesDF"
      ],
      "execution_count": null,
      "outputs": []
    },
    {
      "cell_type": "code",
      "metadata": {
        "colab": {
          "base_uri": "https://localhost:8080/"
        },
        "id": "85Od69uBlRUq",
        "outputId": "4a510a97-6d75-42e7-d7f3-7abadcb51070"
      },
      "source": [
        "verticesDF.show()"
      ],
      "execution_count": null,
      "outputs": [
        {
          "output_type": "stream",
          "text": [
            "+--------------------+-------------+---------+\n",
            "|               Pages|           id|outDegree|\n",
            "+--------------------+-------------+---------+\n",
            "|                1512|           52|        4|\n",
            "|                1512|1717986918478|        4|\n",
            "|               1970s|            5|      206|\n",
            "|               1970s|1717986918545|      206|\n",
            "|          24 October|           42|        1|\n",
            "|          24 October|1717986918584|        1|\n",
            "|               7 May|           38|       25|\n",
            "|             Antonym|           15|      139|\n",
            "|             Antonym|1717986918786|      139|\n",
            "|           Bangalore|           12|       51|\n",
            "|           Bangalore|1717986918455|       51|\n",
            "|      Brest (France)|           11|       15|\n",
            "|          Carl Radle|           46|       27|\n",
            "|          Carl Radle|1717986918963|       27|\n",
            "|       Category:1083|           37|        2|\n",
            "|       Category:1555|           49|        5|\n",
            "|Category:1862 deaths|           43|        1|\n",
            "|   Category:Game Boy|           39|       51|\n",
            "|      Category:Wales|           34|        2|\n",
            "|      Category:Wales|1717986919302|        2|\n",
            "+--------------------+-------------+---------+\n",
            "only showing top 20 rows\n",
            "\n"
          ],
          "name": "stdout"
        }
      ]
    },
    {
      "cell_type": "code",
      "metadata": {
        "id": "jhqxmJB7swKy"
      },
      "source": [
        "# Creating a new graph new_G with new verticesDF and existing edgesDF\n",
        "new_G = GraphFrame(verticesDF,edgesDF)"
      ],
      "execution_count": null,
      "outputs": []
    },
    {
      "cell_type": "code",
      "metadata": {
        "colab": {
          "base_uri": "https://localhost:8080/"
        },
        "id": "Zyzvs307rA76",
        "outputId": "f681887d-40bd-4e47-a09e-e328896696cc"
      },
      "source": [
        "# Writing an aggregateMessages function on 'new_G' to sum neighbors' outDegree for each vertex \n",
        "# messages has been  passed  only via the edge direction\n",
        "# The aggregated outDegree will be the rank of a page (higher the rank of a page, higher its importance )\n",
        "msgToSrc = AM.dst[\"outDegree\"]\n",
        "msgTodst = AM.src[\"outDegree\"]\n",
        "agg = new_G.aggregateMessages(\n",
        "    sqlsum(AM.msg).alias(\"Rank\"),\n",
        "    sendToSrc=msgToSrc,\n",
        "    sendToDst=msgToDst)\n",
        "agg.show(15)"
      ],
      "execution_count": null,
      "outputs": [
        {
          "output_type": "stream",
          "text": [
            "+---+----+\n",
            "| id|Rank|\n",
            "+---+----+\n",
            "| 29|   5|\n",
            "| 50|  32|\n",
            "| 25| 147|\n",
            "|  6| 976|\n",
            "| 33|  15|\n",
            "|  1| 105|\n",
            "| 10|  66|\n",
            "| 44| 502|\n",
            "|  3|  13|\n",
            "|  8|   1|\n",
            "| 11|   9|\n",
            "|  4|  32|\n",
            "| 18|   1|\n",
            "| 23|  29|\n",
            "+---+----+\n",
            "\n"
          ],
          "name": "stdout"
        }
      ]
    }
  ]
}